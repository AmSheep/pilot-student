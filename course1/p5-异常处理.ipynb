{
 "cells": [
  {
   "cell_type": "code",
   "execution_count": 1,
   "metadata": {},
   "outputs": [
    {
     "ename": "SyntaxError",
     "evalue": "unexpected EOF while parsing (<ipython-input-1-f15b40467899>, line 23)",
     "output_type": "error",
     "traceback": [
      "\u001b[1;36m  File \u001b[1;32m\"<ipython-input-1-f15b40467899>\"\u001b[1;36m, line \u001b[1;32m23\u001b[0m\n\u001b[1;33m    # 这样的操作就适合在这里执行\u001b[0m\n\u001b[1;37m                   ^\u001b[0m\n\u001b[1;31mSyntaxError\u001b[0m\u001b[1;31m:\u001b[0m unexpected EOF while parsing\n"
     ]
    }
   ],
   "source": [
    "try:\n",
    "    # 把有可能出现异常的代码放在 try 后面\n",
    "    # 当出现异常时解释器会捕获异常\n",
    "    # 并根据异常的类型执行后面的对应代码块\n",
    "    do_something_nasty()\n",
    "except ValueError:\n",
    "    # 如果发生 ValueError 类型的异常则执行这个代码块\n",
    "    pass\n",
    "except (TypeError, ZeroDivisionError):\n",
    "    # 可以一次指定几个不同类型的异常在一起处理exceptions\n",
    "    # 如果出现 TypeError 或者 ZeroDivisionError 则执行这个代码块\n",
    "    pass\n",
    "except:\n",
    "    # 所有上面没有专门处理的类型的异常会在这里处理\n",
    "    pass\n",
    "else:\n",
    "    # 当且仅当 try 代码块里无异常发生时这个代码块会被执行\n",
    "    pass\n",
    "finally:\n",
    "    # 无论发生了什么这个代码块都会被执行\n",
    "    # 通常这里是清理性的代码，比如我们在 try 里面打开一个文件进行处理\n",
    "    # 无论过程中有没有异常出现最后都应该关闭文件释放资源\n",
    "    # 这样的操作就适合在这里执行"
   ]
  },
  {
   "cell_type": "code",
   "execution_count": null,
   "metadata": {},
   "outputs": [],
   "source": [
    "while True:\n",
    "    try:\n",
    "        x = int(input('Please enter a number:'))\n",
    "        break\n",
    "    except ValueError:\n",
    "        print('Not a valid number.Try again...')\n",
    "print('Your number is:', x)"
   ]
  },
  {
   "cell_type": "code",
   "execution_count": null,
   "metadata": {},
   "outputs": [],
   "source": [
    "while True:\n",
    "    try:\n",
    "        x = int(input('Please enter a number:'))\n",
    "        break\n",
    "    except ValueError:\n",
    "        print('Not a valid number.Try again...')\n",
    "print('Your number is:', x)"
   ]
  },
  {
   "cell_type": "code",
   "execution_count": null,
   "metadata": {},
   "outputs": [],
   "source": [
    "while True:\n",
    "    try:\n",
    "        x = int(input('Please enter a number:'))\n",
    "        break\n",
    "    except ValueError:\n",
    "        print('Not a valid number.Try again...')\n",
    "print('Your number is:', x)"
   ]
  },
  {
   "cell_type": "code",
   "execution_count": null,
   "metadata": {},
   "outputs": [],
   "source": [
    "def this_fails():\n",
    "    x = 1/0\n",
    "\n",
    "try:\n",
    "    this_fails()\n",
    "except ZeroDivisionError as err:\n",
    "    print('Handling run-time error:', err)"
   ]
  },
  {
   "cell_type": "code",
   "execution_count": null,
   "metadata": {},
   "outputs": [],
   "source": [
    "try:\n",
    "    this_fails()\n",
    "except ZeroDivisionError as err:\n",
    "    print('Handling run-time error:', err)"
   ]
  },
  {
   "cell_type": "code",
   "execution_count": null,
   "metadata": {},
   "outputs": [],
   "source": [
    "try:\n",
    "    this_fails()\n",
    "except ZeroDivisionError as err:\n",
    "    print('Handling run-time error:', err)"
   ]
  },
  {
   "cell_type": "code",
   "execution_count": null,
   "metadata": {},
   "outputs": [],
   "source": []
  },
  {
   "cell_type": "code",
   "execution_count": null,
   "metadata": {},
   "outputs": [],
   "source": []
  },
  {
   "cell_type": "code",
   "execution_count": null,
   "metadata": {},
   "outputs": [],
   "source": []
  }
 ],
 "metadata": {
  "kernelspec": {
   "display_name": "Python 3",
   "language": "python",
   "name": "python3"
  },
  "language_info": {
   "codemirror_mode": {
    "name": "ipython",
    "version": 3
   },
   "file_extension": ".py",
   "mimetype": "text/x-python",
   "name": "python",
   "nbconvert_exporter": "python",
   "pygments_lexer": "ipython3",
   "version": "3.7.4"
  }
 },
 "nbformat": 4,
 "nbformat_minor": 4
}
